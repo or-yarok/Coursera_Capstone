{
 "cells": [
  {
   "cell_type": "markdown",
   "id": "13af5b9a",
   "metadata": {},
   "source": [
    "# Scraping Toronto postal codes from wiki page\n",
    "## The first notebook"
   ]
  },
  {
   "cell_type": "code",
   "execution_count": 3,
   "id": "acc08aa0",
   "metadata": {},
   "outputs": [
    {
     "data": {
      "text/plain": [
       "'https://en.wikipedia.org/wiki/List_of_postal_codes_of_Canada:_M'"
      ]
     },
     "execution_count": 3,
     "metadata": {},
     "output_type": "execute_result"
    }
   ],
   "source": [
    "wiki_url=\"https://en.wikipedia.org/wiki/List_of_postal_codes_of_Canada:_M\" # wiki page url\n",
    "wiki_url"
   ]
  },
  {
   "cell_type": "code",
   "execution_count": 5,
   "id": "9fe5b82d",
   "metadata": {},
   "outputs": [],
   "source": [
    "# modules importing\n",
    "import pandas as pd\n",
    "import requests\n",
    "from bs4 import BeautifulSoup"
   ]
  },
  {
   "cell_type": "markdown",
   "id": "076ac38b",
   "metadata": {},
   "source": [
    "We will create an empty DataFrame with three columns: _PostalCodes_, _Borough_, _Neighborhood_:"
   ]
  },
  {
   "cell_type": "code",
   "execution_count": 60,
   "id": "ab6d70d9",
   "metadata": {},
   "outputs": [],
   "source": [
    "# creating DataFrame\n",
    "columns = ['PostalCodes',\n",
    "          'Borough',\n",
    "          'Neighborhood']\n",
    "df = pd.DataFrame(columns=columns)"
   ]
  },
  {
   "cell_type": "markdown",
   "id": "3026d122",
   "metadata": {},
   "source": [
    "Next cell will perform data extracting and cleaning:"
   ]
  },
  {
   "cell_type": "code",
   "execution_count": 59,
   "id": "2a61c657",
   "metadata": {},
   "outputs": [
    {
     "data": {
      "text/html": [
       "<div>\n",
       "<style scoped>\n",
       "    .dataframe tbody tr th:only-of-type {\n",
       "        vertical-align: middle;\n",
       "    }\n",
       "\n",
       "    .dataframe tbody tr th {\n",
       "        vertical-align: top;\n",
       "    }\n",
       "\n",
       "    .dataframe thead th {\n",
       "        text-align: right;\n",
       "    }\n",
       "</style>\n",
       "<table border=\"1\" class=\"dataframe\">\n",
       "  <thead>\n",
       "    <tr style=\"text-align: right;\">\n",
       "      <th></th>\n",
       "      <th>PostalCodes</th>\n",
       "      <th>Borough</th>\n",
       "      <th>Neighborhood</th>\n",
       "    </tr>\n",
       "  </thead>\n",
       "  <tbody>\n",
       "    <tr>\n",
       "      <th>0</th>\n",
       "      <td>M3A</td>\n",
       "      <td>North York</td>\n",
       "      <td>Parkwoods</td>\n",
       "    </tr>\n",
       "    <tr>\n",
       "      <th>1</th>\n",
       "      <td>M4A</td>\n",
       "      <td>North York</td>\n",
       "      <td>Victoria Village</td>\n",
       "    </tr>\n",
       "    <tr>\n",
       "      <th>2</th>\n",
       "      <td>M5A</td>\n",
       "      <td>Downtown Toronto</td>\n",
       "      <td>Regent Park, Harbourfront</td>\n",
       "    </tr>\n",
       "    <tr>\n",
       "      <th>3</th>\n",
       "      <td>M6A</td>\n",
       "      <td>North York</td>\n",
       "      <td>Lawrence Manor, Lawrence Heights</td>\n",
       "    </tr>\n",
       "    <tr>\n",
       "      <th>4</th>\n",
       "      <td>M7A</td>\n",
       "      <td>Queen's Park</td>\n",
       "      <td>Ontario Provincial Government</td>\n",
       "    </tr>\n",
       "    <tr>\n",
       "      <th>5</th>\n",
       "      <td>M9A</td>\n",
       "      <td>Etobicoke</td>\n",
       "      <td>Islington Avenue</td>\n",
       "    </tr>\n",
       "    <tr>\n",
       "      <th>6</th>\n",
       "      <td>M1B</td>\n",
       "      <td>Scarborough</td>\n",
       "      <td>Malvern, Rouge</td>\n",
       "    </tr>\n",
       "    <tr>\n",
       "      <th>7</th>\n",
       "      <td>M3B</td>\n",
       "      <td>North York</td>\n",
       "      <td>Don Mills North</td>\n",
       "    </tr>\n",
       "    <tr>\n",
       "      <th>8</th>\n",
       "      <td>M4B</td>\n",
       "      <td>East York</td>\n",
       "      <td>Parkview Hill, Woodbine Gardens</td>\n",
       "    </tr>\n",
       "    <tr>\n",
       "      <th>9</th>\n",
       "      <td>M5B</td>\n",
       "      <td>Downtown Toronto</td>\n",
       "      <td>Garden District, Ryerson</td>\n",
       "    </tr>\n",
       "    <tr>\n",
       "      <th>10</th>\n",
       "      <td>M6B</td>\n",
       "      <td>North York</td>\n",
       "      <td>Glencairn</td>\n",
       "    </tr>\n",
       "  </tbody>\n",
       "</table>\n",
       "</div>"
      ],
      "text/plain": [
       "   PostalCodes           Borough                      Neighborhood\n",
       "0          M3A        North York                         Parkwoods\n",
       "1          M4A        North York                  Victoria Village\n",
       "2          M5A  Downtown Toronto         Regent Park, Harbourfront\n",
       "3          M6A        North York  Lawrence Manor, Lawrence Heights\n",
       "4          M7A      Queen's Park     Ontario Provincial Government\n",
       "5          M9A         Etobicoke                  Islington Avenue\n",
       "6          M1B       Scarborough                    Malvern, Rouge\n",
       "7          M3B        North York                   Don Mills North\n",
       "8          M4B         East York   Parkview Hill, Woodbine Gardens\n",
       "9          M5B  Downtown Toronto          Garden District, Ryerson\n",
       "10         M6B        North York                         Glencairn"
      ]
     },
     "execution_count": 59,
     "metadata": {},
     "output_type": "execute_result"
    }
   ],
   "source": [
    "# wiki table extracting\n",
    "results = requests.get(wiki_url).text\n",
    "table = BeautifulSoup(results).find(\"table\") # extracting the table from a wiki page\n",
    "rows = table.find_all(\"tr\")\n",
    "raw_data = [] # list of dictionaries in order to build DataFrame\n",
    "for row in rows: \n",
    "    for cell in row.find_all(\"td\"):\n",
    "        postal_code = cell.p.b.text\n",
    "        try:\n",
    "            borough, neighborhood = cell.span.text.split('(')[:2]\n",
    "        except Exception as err:\n",
    "            continue\n",
    "        neighborhood = neighborhood.strip(')').replace(' /', ',').replace(')',' ').strip(' ')\n",
    "        borough = borough.strip(' ')\n",
    "        raw_data.append({'PostalCodes': postal_code,\n",
    "                   'Borough': borough,\n",
    "                   'Neighborhood': neighborhood})\n",
    "\n",
    "df = pd.DataFrame(raw_data)\n",
    "df['Borough']=df['Borough'].replace({'Downtown TorontoStn A PO Boxes25 The Esplanade':'Downtown Toronto Stn A',\n",
    "                                             'East TorontoBusiness reply mail Processing Centre969 Eastern':'East Toronto Business',\n",
    "                                             'EtobicokeNorthwest':'Etobicoke Northwest','East YorkEast Toronto':'East York/East Toronto',\n",
    "                                             'MississaugaCanada Post Gateway Processing Centre':'Mississauga'})\n",
    "df.head(11)"
   ]
  },
  {
   "cell_type": "code",
   "execution_count": 43,
   "id": "644eb752",
   "metadata": {},
   "outputs": [
    {
     "data": {
      "text/plain": [
       "(101, 3)"
      ]
     },
     "execution_count": 43,
     "metadata": {},
     "output_type": "execute_result"
    }
   ],
   "source": [
    "df.shape"
   ]
  },
  {
   "cell_type": "code",
   "execution_count": null,
   "id": "d1a4ea4b",
   "metadata": {},
   "outputs": [],
   "source": []
  },
  {
   "cell_type": "code",
   "execution_count": null,
   "id": "482d3ac5",
   "metadata": {},
   "outputs": [],
   "source": []
  }
 ],
 "metadata": {
  "kernelspec": {
   "display_name": "Python 3",
   "language": "python",
   "name": "python3"
  },
  "language_info": {
   "codemirror_mode": {
    "name": "ipython",
    "version": 3
   },
   "file_extension": ".py",
   "mimetype": "text/x-python",
   "name": "python",
   "nbconvert_exporter": "python",
   "pygments_lexer": "ipython3",
   "version": "3.6.9"
  }
 },
 "nbformat": 4,
 "nbformat_minor": 5
}
