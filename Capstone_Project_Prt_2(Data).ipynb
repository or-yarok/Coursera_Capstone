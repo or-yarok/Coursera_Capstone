{
 "cells": [
  {
   "cell_type": "markdown",
   "id": "8a903e74",
   "metadata": {},
   "source": [
    "# Venues Around Hotels in Yekaterinburg, Russia"
   ]
  },
  {
   "cell_type": "markdown",
   "id": "b8a630df",
   "metadata": {},
   "source": [
    "### Capstone Project\n",
    "by Eduard Meilakh"
   ]
  },
  {
   "cell_type": "markdown",
   "id": "39269801",
   "metadata": {},
   "source": [
    "## Buisness Problem"
   ]
  },
  {
   "cell_type": "markdown",
   "id": "0efe8423",
   "metadata": {},
   "source": [
    "Yekaterinburg is the largest city of Ural Federal District, Russia and is the administrative center of Sverdlovsk Region. There are a lot of hotels in Yekaterinburg. Meanwhile, market niches for venues near hotels are overflowing and highly competitive."
   ]
  },
  {
   "cell_type": "code",
   "execution_count": 1,
   "id": "201d3fcb",
   "metadata": {},
   "outputs": [],
   "source": [
    "yekat_location = (56.83555556, 60.61277778) # latitude and longitude coordinates of Yekaterinburg"
   ]
  },
  {
   "cell_type": "code",
   "execution_count": 2,
   "id": "6d8036d1",
   "metadata": {},
   "outputs": [
    {
     "name": "stderr",
     "output_type": "stream",
     "text": [
      "/usr/lib/python3/dist-packages/requests/__init__.py:80: RequestsDependencyWarning: urllib3 (1.25.9) or chardet (3.0.4) doesn't match a supported version!\n",
      "  RequestsDependencyWarning)\n"
     ]
    },
    {
     "data": {
      "text/html": [
       "<div style=\"width:100%;\"><div style=\"position:relative;width:100%;height:0;padding-bottom:60%;\"><span style=\"color:#565656\">Make this Notebook Trusted to load map: File -> Trust Notebook</span><iframe src=\"about:blank\" style=\"position:absolute;width:100%;height:100%;left:0;top:0;border:none !important;\" data-html=%3C%21DOCTYPE%20html%3E%0A%3Chead%3E%20%20%20%20%0A%20%20%20%20%3Cmeta%20http-equiv%3D%22content-type%22%20content%3D%22text/html%3B%20charset%3DUTF-8%22%20/%3E%0A%20%20%20%20%0A%20%20%20%20%20%20%20%20%3Cscript%3E%0A%20%20%20%20%20%20%20%20%20%20%20%20L_NO_TOUCH%20%3D%20false%3B%0A%20%20%20%20%20%20%20%20%20%20%20%20L_DISABLE_3D%20%3D%20false%3B%0A%20%20%20%20%20%20%20%20%3C/script%3E%0A%20%20%20%20%0A%20%20%20%20%3Cstyle%3Ehtml%2C%20body%20%7Bwidth%3A%20100%25%3Bheight%3A%20100%25%3Bmargin%3A%200%3Bpadding%3A%200%3B%7D%3C/style%3E%0A%20%20%20%20%3Cstyle%3E%23map%20%7Bposition%3Aabsolute%3Btop%3A0%3Bbottom%3A0%3Bright%3A0%3Bleft%3A0%3B%7D%3C/style%3E%0A%20%20%20%20%3Cscript%20src%3D%22https%3A//cdn.jsdelivr.net/npm/leaflet%401.6.0/dist/leaflet.js%22%3E%3C/script%3E%0A%20%20%20%20%3Cscript%20src%3D%22https%3A//code.jquery.com/jquery-1.12.4.min.js%22%3E%3C/script%3E%0A%20%20%20%20%3Cscript%20src%3D%22https%3A//maxcdn.bootstrapcdn.com/bootstrap/3.2.0/js/bootstrap.min.js%22%3E%3C/script%3E%0A%20%20%20%20%3Cscript%20src%3D%22https%3A//cdnjs.cloudflare.com/ajax/libs/Leaflet.awesome-markers/2.0.2/leaflet.awesome-markers.js%22%3E%3C/script%3E%0A%20%20%20%20%3Clink%20rel%3D%22stylesheet%22%20href%3D%22https%3A//cdn.jsdelivr.net/npm/leaflet%401.6.0/dist/leaflet.css%22/%3E%0A%20%20%20%20%3Clink%20rel%3D%22stylesheet%22%20href%3D%22https%3A//maxcdn.bootstrapcdn.com/bootstrap/3.2.0/css/bootstrap.min.css%22/%3E%0A%20%20%20%20%3Clink%20rel%3D%22stylesheet%22%20href%3D%22https%3A//maxcdn.bootstrapcdn.com/bootstrap/3.2.0/css/bootstrap-theme.min.css%22/%3E%0A%20%20%20%20%3Clink%20rel%3D%22stylesheet%22%20href%3D%22https%3A//maxcdn.bootstrapcdn.com/font-awesome/4.6.3/css/font-awesome.min.css%22/%3E%0A%20%20%20%20%3Clink%20rel%3D%22stylesheet%22%20href%3D%22https%3A//cdnjs.cloudflare.com/ajax/libs/Leaflet.awesome-markers/2.0.2/leaflet.awesome-markers.css%22/%3E%0A%20%20%20%20%3Clink%20rel%3D%22stylesheet%22%20href%3D%22https%3A//cdn.jsdelivr.net/gh/python-visualization/folium/folium/templates/leaflet.awesome.rotate.min.css%22/%3E%0A%20%20%20%20%0A%20%20%20%20%20%20%20%20%20%20%20%20%3Cmeta%20name%3D%22viewport%22%20content%3D%22width%3Ddevice-width%2C%0A%20%20%20%20%20%20%20%20%20%20%20%20%20%20%20%20initial-scale%3D1.0%2C%20maximum-scale%3D1.0%2C%20user-scalable%3Dno%22%20/%3E%0A%20%20%20%20%20%20%20%20%20%20%20%20%3Cstyle%3E%0A%20%20%20%20%20%20%20%20%20%20%20%20%20%20%20%20%23map_2dde8dac669d423bb191b9f83ef6001a%20%7B%0A%20%20%20%20%20%20%20%20%20%20%20%20%20%20%20%20%20%20%20%20position%3A%20relative%3B%0A%20%20%20%20%20%20%20%20%20%20%20%20%20%20%20%20%20%20%20%20width%3A%20100.0%25%3B%0A%20%20%20%20%20%20%20%20%20%20%20%20%20%20%20%20%20%20%20%20height%3A%20100.0%25%3B%0A%20%20%20%20%20%20%20%20%20%20%20%20%20%20%20%20%20%20%20%20left%3A%200.0%25%3B%0A%20%20%20%20%20%20%20%20%20%20%20%20%20%20%20%20%20%20%20%20top%3A%200.0%25%3B%0A%20%20%20%20%20%20%20%20%20%20%20%20%20%20%20%20%7D%0A%20%20%20%20%20%20%20%20%20%20%20%20%3C/style%3E%0A%20%20%20%20%20%20%20%20%0A%3C/head%3E%0A%3Cbody%3E%20%20%20%20%0A%20%20%20%20%0A%20%20%20%20%20%20%20%20%20%20%20%20%3Cdiv%20class%3D%22folium-map%22%20id%3D%22map_2dde8dac669d423bb191b9f83ef6001a%22%20%3E%3C/div%3E%0A%20%20%20%20%20%20%20%20%0A%3C/body%3E%0A%3Cscript%3E%20%20%20%20%0A%20%20%20%20%0A%20%20%20%20%20%20%20%20%20%20%20%20var%20map_2dde8dac669d423bb191b9f83ef6001a%20%3D%20L.map%28%0A%20%20%20%20%20%20%20%20%20%20%20%20%20%20%20%20%22map_2dde8dac669d423bb191b9f83ef6001a%22%2C%0A%20%20%20%20%20%20%20%20%20%20%20%20%20%20%20%20%7B%0A%20%20%20%20%20%20%20%20%20%20%20%20%20%20%20%20%20%20%20%20center%3A%20%5B56.83555556%2C%2060.61277778%5D%2C%0A%20%20%20%20%20%20%20%20%20%20%20%20%20%20%20%20%20%20%20%20crs%3A%20L.CRS.EPSG3857%2C%0A%20%20%20%20%20%20%20%20%20%20%20%20%20%20%20%20%20%20%20%20zoom%3A%2011%2C%0A%20%20%20%20%20%20%20%20%20%20%20%20%20%20%20%20%20%20%20%20zoomControl%3A%20true%2C%0A%20%20%20%20%20%20%20%20%20%20%20%20%20%20%20%20%20%20%20%20preferCanvas%3A%20false%2C%0A%20%20%20%20%20%20%20%20%20%20%20%20%20%20%20%20%7D%0A%20%20%20%20%20%20%20%20%20%20%20%20%29%3B%0A%0A%20%20%20%20%20%20%20%20%20%20%20%20%0A%0A%20%20%20%20%20%20%20%20%0A%20%20%20%20%0A%20%20%20%20%20%20%20%20%20%20%20%20var%20tile_layer_6aad0ba61f7549fb814f2ed70e3643c6%20%3D%20L.tileLayer%28%0A%20%20%20%20%20%20%20%20%20%20%20%20%20%20%20%20%22https%3A//%7Bs%7D.tile.openstreetmap.org/%7Bz%7D/%7Bx%7D/%7By%7D.png%22%2C%0A%20%20%20%20%20%20%20%20%20%20%20%20%20%20%20%20%7B%22attribution%22%3A%20%22Data%20by%20%5Cu0026copy%3B%20%5Cu003ca%20href%3D%5C%22http%3A//openstreetmap.org%5C%22%5Cu003eOpenStreetMap%5Cu003c/a%5Cu003e%2C%20under%20%5Cu003ca%20href%3D%5C%22http%3A//www.openstreetmap.org/copyright%5C%22%5Cu003eODbL%5Cu003c/a%5Cu003e.%22%2C%20%22detectRetina%22%3A%20false%2C%20%22maxNativeZoom%22%3A%2018%2C%20%22maxZoom%22%3A%2018%2C%20%22minZoom%22%3A%200%2C%20%22noWrap%22%3A%20false%2C%20%22opacity%22%3A%201%2C%20%22subdomains%22%3A%20%22abc%22%2C%20%22tms%22%3A%20false%7D%0A%20%20%20%20%20%20%20%20%20%20%20%20%29.addTo%28map_2dde8dac669d423bb191b9f83ef6001a%29%3B%0A%20%20%20%20%20%20%20%20%0A%20%20%20%20%0A%20%20%20%20%20%20%20%20%20%20%20%20var%20circle_marker_4b95ae4716294ed994ea44d8f73a6080%20%3D%20L.circleMarker%28%0A%20%20%20%20%20%20%20%20%20%20%20%20%20%20%20%20%5B56.83555556%2C%2060.61277778%5D%2C%0A%20%20%20%20%20%20%20%20%20%20%20%20%20%20%20%20%7B%22bubblingMouseEvents%22%3A%20true%2C%20%22color%22%3A%20%22%233388ff%22%2C%20%22dashArray%22%3A%20null%2C%20%22dashOffset%22%3A%20null%2C%20%22fill%22%3A%20true%2C%20%22fillColor%22%3A%20%22%233388ff%22%2C%20%22fillOpacity%22%3A%200.7%2C%20%22fillRule%22%3A%20%22evenodd%22%2C%20%22lineCap%22%3A%20%22round%22%2C%20%22lineJoin%22%3A%20%22round%22%2C%20%22opacity%22%3A%201.0%2C%20%22radius%22%3A%205%2C%20%22stroke%22%3A%20true%2C%20%22weight%22%3A%203%7D%0A%20%20%20%20%20%20%20%20%20%20%20%20%29.addTo%28map_2dde8dac669d423bb191b9f83ef6001a%29%3B%0A%20%20%20%20%20%20%20%20%0A%20%20%20%20%0A%20%20%20%20%20%20%20%20var%20popup_c5a7a10a6a154ac4a33d06916ca484f6%20%3D%20L.popup%28%7B%22maxWidth%22%3A%20%22100%25%22%7D%29%3B%0A%0A%20%20%20%20%20%20%20%20%0A%20%20%20%20%20%20%20%20%20%20%20%20var%20html_8e6b99b422e8427695a49283f6fa560a%20%3D%20%24%28%60%3Cdiv%20id%3D%22html_8e6b99b422e8427695a49283f6fa560a%22%20style%3D%22width%3A%20100.0%25%3B%20height%3A%20100.0%25%3B%22%3EYekaterinburg%3C/div%3E%60%29%5B0%5D%3B%0A%20%20%20%20%20%20%20%20%20%20%20%20popup_c5a7a10a6a154ac4a33d06916ca484f6.setContent%28html_8e6b99b422e8427695a49283f6fa560a%29%3B%0A%20%20%20%20%20%20%20%20%0A%0A%20%20%20%20%20%20%20%20circle_marker_4b95ae4716294ed994ea44d8f73a6080.bindPopup%28popup_c5a7a10a6a154ac4a33d06916ca484f6%29%0A%20%20%20%20%20%20%20%20%3B%0A%0A%20%20%20%20%20%20%20%20%0A%20%20%20%20%0A%3C/script%3E onload=\"this.contentDocument.open();this.contentDocument.write(    decodeURIComponent(this.getAttribute('data-html')));this.contentDocument.close();\" allowfullscreen webkitallowfullscreen mozallowfullscreen></iframe></div></div>"
      ],
      "text/plain": [
       "<folium.folium.Map at 0x7f36c40811d0>"
      ]
     },
     "execution_count": 2,
     "metadata": {},
     "output_type": "execute_result"
    }
   ],
   "source": [
    "import folium\n",
    "yekat_map = folium.Map(location=yekat_location, zoom_start=11)\n",
    "label = \"Yekaterinburg\"\n",
    "folium.CircleMarker(\n",
    "        yekat_location,\n",
    "        radius=5,\n",
    "        popup=label,\n",
    "        fill = True,\n",
    "        fill_opacity=0.7).add_to(yekat_map)\n",
    "yekat_map"
   ]
  },
  {
   "cell_type": "markdown",
   "id": "1dd585ec",
   "metadata": {},
   "source": [
    "The business problem which this project is devoted to is to choose a location for new venue near a hotel in Yekaterinburg. \n",
    "We can define the following sub-tasks:\n",
    "* define a correlation between hotels' features (stars, rating) and types of venues around a hotel \n",
    "* compare venues near different hotels in Yekaterinburg (their density and deversity)\n",
    "* choose hotels with the lowest density of venues near them\n",
    "* give reccomendations for location and type of new venue."
   ]
  },
  {
   "cell_type": "markdown",
   "id": "f2e70c77",
   "metadata": {},
   "source": [
    "## Data"
   ]
  },
  {
   "cell_type": "markdown",
   "id": "a9f317ce",
   "metadata": {},
   "source": [
    "We need the following data for our project:\n",
    "* List of hotels in Yekaterinburg, their coordinates, stars, rating; these data may be scrapped from https://www.gogototour.com/ru/city/yekaterinburg/ and partly from Foursquare; \n",
    "* venues around each hotel, their types and ratings; these data may be obtained using Foursquare api."
   ]
  },
  {
   "cell_type": "code",
   "execution_count": 3,
   "id": "4a23f06f",
   "metadata": {},
   "outputs": [
    {
     "name": "stdout",
     "output_type": "stream",
     "text": [
      "Urls of all hotels are scrapped!\n"
     ]
    }
   ],
   "source": [
    "import requests\n",
    "from bs4 import BeautifulSoup\n",
    "hotels_url = \"https://www.gogototour.com/ru/city/yekaterinburg/sort/star/\" # hotels of Yekaterinburg sorted by their ratings\n",
    "hotels_list = set()\n",
    "pages = [\"\",\n",
    "        ]\n",
    "for page_ind in range(2,6):\n",
    "    pages.append(\"/page/\"+str(page_ind)) # iterate over 5 pages on this site\n",
    "\n",
    "for page in pages:\n",
    "    cur_url = hotels_url+page\n",
    "    hotels = requests.get(hotels_url)\n",
    "    html = BeautifulSoup(hotels.text)\n",
    "    for a_tag in html.find_all(\"a\"): # looking for links to hotels\n",
    "        try:\n",
    "            href = a_tag[\"href\"]\n",
    "            name = a_tag[\"title\"]\n",
    "            if href.startswith(\"/ru/hotel\") and not href.endswith(\"review/\"):\n",
    "                hotels_list.add(href)        \n",
    "        except:\n",
    "            pass\n",
    "print(\"Urls of all hotels are scrapped!\")"
   ]
  },
  {
   "cell_type": "code",
   "execution_count": 6,
   "id": "bb04d6ab",
   "metadata": {},
   "outputs": [],
   "source": [
    "hotel_url = \"https://www.gogototour.com\"        \n",
    "\n",
    "hotel_features = {\"names\": [],\n",
    "                   \"lats\": [],\n",
    "                   \"longs\": [],\n",
    "                   \"stars\": [],\n",
    "                 }\n",
    "\n",
    "for hotel in hotels_list: #scraping hotels' features: name, latitude, longitude, stars\n",
    "    name = None\n",
    "    lat = None\n",
    "    long = None\n",
    "    stars = None\n",
    "    try:\n",
    "        cur_url = hotel_url+hotel\n",
    "        results = requests.get(cur_url)\n",
    "        results = BeautifulSoup(results.text)\n",
    "        name = results.find(\"h1\", {\"class\":\"hotel\"}).text\n",
    "        lat = results.find(\"meta\", {\"itemprop\":\"latitude\"})[\"content\"]\n",
    "        long = results.find(\"meta\", {\"itemprop\":\"longitude\"})[\"content\"]\n",
    "        stars = results.find(\"div\", {\"id\":\"ofstars\"}).find(\"input\", {\"class\":\"val\"})[\"value\"]\n",
    "    except:\n",
    "        pass\n",
    "    else:\n",
    "        if name and lat and long: # if everything is okay append the dictionary with hotels data\n",
    "            hotel_features[\"names\"].append(name)\n",
    "            hotel_features[\"lats\"].append(lat)\n",
    "            hotel_features[\"longs\"].append(long)\n",
    "            hotel_features[\"stars\"].append(stars)"
   ]
  },
  {
   "cell_type": "code",
   "execution_count": 5,
   "id": "e99325a4",
   "metadata": {},
   "outputs": [
    {
     "data": {
      "text/html": [
       "<div>\n",
       "<style scoped>\n",
       "    .dataframe tbody tr th:only-of-type {\n",
       "        vertical-align: middle;\n",
       "    }\n",
       "\n",
       "    .dataframe tbody tr th {\n",
       "        vertical-align: top;\n",
       "    }\n",
       "\n",
       "    .dataframe thead th {\n",
       "        text-align: right;\n",
       "    }\n",
       "</style>\n",
       "<table border=\"1\" class=\"dataframe\">\n",
       "  <thead>\n",
       "    <tr style=\"text-align: right;\">\n",
       "      <th></th>\n",
       "      <th>names</th>\n",
       "      <th>lats</th>\n",
       "      <th>longs</th>\n",
       "      <th>stars</th>\n",
       "    </tr>\n",
       "  </thead>\n",
       "  <tbody>\n",
       "    <tr>\n",
       "      <th>0</th>\n",
       "      <td>Atlaza City Residence</td>\n",
       "      <td>56.8239790</td>\n",
       "      <td>60.6379200</td>\n",
       "      <td>4</td>\n",
       "    </tr>\n",
       "    <tr>\n",
       "      <th>1</th>\n",
       "      <td>Onegin Hotel</td>\n",
       "      <td>56.8288140</td>\n",
       "      <td>60.6138900</td>\n",
       "      <td>4</td>\n",
       "    </tr>\n",
       "    <tr>\n",
       "      <th>2</th>\n",
       "      <td>Viz'avi Hotel</td>\n",
       "      <td>56.8376120</td>\n",
       "      <td>60.5483790</td>\n",
       "      <td>4</td>\n",
       "    </tr>\n",
       "    <tr>\n",
       "      <th>3</th>\n",
       "      <td>Vizit Hotel Yekaterinburg</td>\n",
       "      <td>56.8909670</td>\n",
       "      <td>60.6120014</td>\n",
       "      <td>4</td>\n",
       "    </tr>\n",
       "    <tr>\n",
       "      <th>4</th>\n",
       "      <td>Ramada Yekaterinburg</td>\n",
       "      <td>56.7752800</td>\n",
       "      <td>60.7178300</td>\n",
       "      <td>5</td>\n",
       "    </tr>\n",
       "    <tr>\n",
       "      <th>5</th>\n",
       "      <td>Best Eastern Uralsky Dvor</td>\n",
       "      <td>56.8275790</td>\n",
       "      <td>60.6165880</td>\n",
       "      <td>4</td>\n",
       "    </tr>\n",
       "    <tr>\n",
       "      <th>6</th>\n",
       "      <td>Senator Business Hotel</td>\n",
       "      <td>56.8417090</td>\n",
       "      <td>60.5767080</td>\n",
       "      <td>4</td>\n",
       "    </tr>\n",
       "    <tr>\n",
       "      <th>7</th>\n",
       "      <td>Novotel Yekaterinburg Centre</td>\n",
       "      <td>56.8332000</td>\n",
       "      <td>60.6136200</td>\n",
       "      <td>4</td>\n",
       "    </tr>\n",
       "    <tr>\n",
       "      <th>8</th>\n",
       "      <td>Grand Hall Hotel</td>\n",
       "      <td>56.8286400</td>\n",
       "      <td>60.5595703</td>\n",
       "      <td>4</td>\n",
       "    </tr>\n",
       "    <tr>\n",
       "      <th>9</th>\n",
       "      <td>Ural Hotel Yekaterinburg</td>\n",
       "      <td>56.8417290</td>\n",
       "      <td>60.5724920</td>\n",
       "      <td>4</td>\n",
       "    </tr>\n",
       "    <tr>\n",
       "      <th>10</th>\n",
       "      <td>Moskovskaya Gorka Hotel</td>\n",
       "      <td>56.8224960</td>\n",
       "      <td>60.5879470</td>\n",
       "      <td>4</td>\n",
       "    </tr>\n",
       "    <tr>\n",
       "      <th>11</th>\n",
       "      <td>Richmond Hotel Yekaterinburg</td>\n",
       "      <td>56.8404220</td>\n",
       "      <td>60.6561820</td>\n",
       "      <td>4</td>\n",
       "    </tr>\n",
       "    <tr>\n",
       "      <th>12</th>\n",
       "      <td>Park Inn Ekaterinburg</td>\n",
       "      <td>56.8364910</td>\n",
       "      <td>60.6184490</td>\n",
       "      <td>4</td>\n",
       "    </tr>\n",
       "    <tr>\n",
       "      <th>13</th>\n",
       "      <td>Hyatt Regency Ekaterinburg</td>\n",
       "      <td>56.8435210</td>\n",
       "      <td>60.5917880</td>\n",
       "      <td>5</td>\n",
       "    </tr>\n",
       "    <tr>\n",
       "      <th>14</th>\n",
       "      <td>Angelo Airport Hotel Yekaterinburg</td>\n",
       "      <td>56.7512559</td>\n",
       "      <td>60.7989168</td>\n",
       "      <td>4</td>\n",
       "    </tr>\n",
       "    <tr>\n",
       "      <th>15</th>\n",
       "      <td>Hotel Oktyabrskaya Yekaterinburg</td>\n",
       "      <td>56.8499700</td>\n",
       "      <td>60.6530690</td>\n",
       "      <td>4</td>\n",
       "    </tr>\n",
       "    <tr>\n",
       "      <th>16</th>\n",
       "      <td>Palais Royal</td>\n",
       "      <td>56.8110400</td>\n",
       "      <td>60.7102346</td>\n",
       "      <td>4</td>\n",
       "    </tr>\n",
       "    <tr>\n",
       "      <th>17</th>\n",
       "      <td>Voznesensky Hotel</td>\n",
       "      <td>56.8451250</td>\n",
       "      <td>60.6158540</td>\n",
       "      <td>4</td>\n",
       "    </tr>\n",
       "    <tr>\n",
       "      <th>18</th>\n",
       "      <td>Atrium Palace Hotel Yekaterinburg</td>\n",
       "      <td>56.8378140</td>\n",
       "      <td>60.5968420</td>\n",
       "      <td>5</td>\n",
       "    </tr>\n",
       "    <tr>\n",
       "      <th>19</th>\n",
       "      <td>Soldi Hotel</td>\n",
       "      <td>56.9034500</td>\n",
       "      <td>60.5781822</td>\n",
       "      <td>4</td>\n",
       "    </tr>\n",
       "  </tbody>\n",
       "</table>\n",
       "</div>"
      ],
      "text/plain": [
       "                                 names        lats       longs stars\n",
       "0                Atlaza City Residence  56.8239790  60.6379200     4\n",
       "1                         Onegin Hotel  56.8288140  60.6138900     4\n",
       "2                        Viz'avi Hotel  56.8376120  60.5483790     4\n",
       "3            Vizit Hotel Yekaterinburg  56.8909670  60.6120014     4\n",
       "4                 Ramada Yekaterinburg  56.7752800  60.7178300     5\n",
       "5            Best Eastern Uralsky Dvor  56.8275790  60.6165880     4\n",
       "6               Senator Business Hotel  56.8417090  60.5767080     4\n",
       "7         Novotel Yekaterinburg Centre  56.8332000  60.6136200     4\n",
       "8                     Grand Hall Hotel  56.8286400  60.5595703     4\n",
       "9             Ural Hotel Yekaterinburg  56.8417290  60.5724920     4\n",
       "10             Moskovskaya Gorka Hotel  56.8224960  60.5879470     4\n",
       "11        Richmond Hotel Yekaterinburg  56.8404220  60.6561820     4\n",
       "12               Park Inn Ekaterinburg  56.8364910  60.6184490     4\n",
       "13          Hyatt Regency Ekaterinburg  56.8435210  60.5917880     5\n",
       "14  Angelo Airport Hotel Yekaterinburg  56.7512559  60.7989168     4\n",
       "15    Hotel Oktyabrskaya Yekaterinburg  56.8499700  60.6530690     4\n",
       "16                        Palais Royal  56.8110400  60.7102346     4\n",
       "17                   Voznesensky Hotel  56.8451250  60.6158540     4\n",
       "18   Atrium Palace Hotel Yekaterinburg  56.8378140  60.5968420     5\n",
       "19                         Soldi Hotel  56.9034500  60.5781822     4"
      ]
     },
     "execution_count": 5,
     "metadata": {},
     "output_type": "execute_result"
    }
   ],
   "source": [
    "import pandas as pd\n",
    "hotels_df = pd.DataFrame(hotel_features)\n",
    "hotels_df"
   ]
  },
  {
   "cell_type": "code",
   "execution_count": null,
   "id": "12652b07",
   "metadata": {},
   "outputs": [],
   "source": []
  },
  {
   "cell_type": "code",
   "execution_count": null,
   "id": "4953814a",
   "metadata": {},
   "outputs": [],
   "source": []
  }
 ],
 "metadata": {
  "kernelspec": {
   "display_name": "Python 3",
   "language": "python",
   "name": "python3"
  },
  "language_info": {
   "codemirror_mode": {
    "name": "ipython",
    "version": 3
   },
   "file_extension": ".py",
   "mimetype": "text/x-python",
   "name": "python",
   "nbconvert_exporter": "python",
   "pygments_lexer": "ipython3",
   "version": "3.6.9"
  }
 },
 "nbformat": 4,
 "nbformat_minor": 5
}
